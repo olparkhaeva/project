{
 "cells": [
  {
   "cell_type": "code",
   "execution_count": 1,
   "metadata": {
    "collapsed": true
   },
   "outputs": [],
   "source": [
    "from collections import Counter\n",
    "import pandas as pd\n",
    "import re\n",
    "import nltk\n",
    "from nltk.tokenize import word_tokenize\n",
    "from nltk.corpus import stopwords\n",
    "from nltk.stem.wordnet import WordNetLemmatizer\n",
    "from nltk.corpus import wordnet"
   ]
  },
  {
   "cell_type": "code",
   "execution_count": 3,
   "metadata": {
    "collapsed": true
   },
   "outputs": [],
   "source": [
    "train=pd.read_csv('train.csv')\n",
    "test=pd.read_csv('test.csv')"
   ]
  },
  {
   "cell_type": "code",
   "execution_count": 14,
   "metadata": {},
   "outputs": [
    {
     "data": {
      "text/html": [
       "<div>\n",
       "<table border=\"1\" class=\"dataframe\">\n",
       "  <thead>\n",
       "    <tr style=\"text-align: right;\">\n",
       "      <th></th>\n",
       "      <th>id</th>\n",
       "      <th>comment_text</th>\n",
       "      <th>toxic</th>\n",
       "      <th>severe_toxic</th>\n",
       "      <th>obscene</th>\n",
       "      <th>threat</th>\n",
       "      <th>insult</th>\n",
       "      <th>identity_hate</th>\n",
       "    </tr>\n",
       "  </thead>\n",
       "  <tbody>\n",
       "    <tr>\n",
       "      <th>0</th>\n",
       "      <td>22256635</td>\n",
       "      <td>Nonsense?  kiss off, geek. what I said is true...</td>\n",
       "      <td>1</td>\n",
       "      <td>0</td>\n",
       "      <td>0</td>\n",
       "      <td>0</td>\n",
       "      <td>0</td>\n",
       "      <td>0</td>\n",
       "    </tr>\n",
       "    <tr>\n",
       "      <th>1</th>\n",
       "      <td>27450690</td>\n",
       "      <td>\"\\n\\n Please do not vandalize pages, as you di...</td>\n",
       "      <td>0</td>\n",
       "      <td>0</td>\n",
       "      <td>0</td>\n",
       "      <td>0</td>\n",
       "      <td>0</td>\n",
       "      <td>0</td>\n",
       "    </tr>\n",
       "    <tr>\n",
       "      <th>2</th>\n",
       "      <td>54037174</td>\n",
       "      <td>\"\\n\\n \"\"Points of interest\"\" \\n\\nI removed the...</td>\n",
       "      <td>0</td>\n",
       "      <td>0</td>\n",
       "      <td>0</td>\n",
       "      <td>0</td>\n",
       "      <td>0</td>\n",
       "      <td>0</td>\n",
       "    </tr>\n",
       "    <tr>\n",
       "      <th>3</th>\n",
       "      <td>77493077</td>\n",
       "      <td>Asking some his nationality is a Racial offenc...</td>\n",
       "      <td>0</td>\n",
       "      <td>0</td>\n",
       "      <td>0</td>\n",
       "      <td>0</td>\n",
       "      <td>0</td>\n",
       "      <td>0</td>\n",
       "    </tr>\n",
       "    <tr>\n",
       "      <th>4</th>\n",
       "      <td>79357270</td>\n",
       "      <td>The reader here is not going by my say so for ...</td>\n",
       "      <td>0</td>\n",
       "      <td>0</td>\n",
       "      <td>0</td>\n",
       "      <td>0</td>\n",
       "      <td>0</td>\n",
       "      <td>0</td>\n",
       "    </tr>\n",
       "  </tbody>\n",
       "</table>\n",
       "</div>"
      ],
      "text/plain": [
       "         id                                       comment_text  toxic  \\\n",
       "0  22256635  Nonsense?  kiss off, geek. what I said is true...      1   \n",
       "1  27450690  \"\\n\\n Please do not vandalize pages, as you di...      0   \n",
       "2  54037174  \"\\n\\n \"\"Points of interest\"\" \\n\\nI removed the...      0   \n",
       "3  77493077  Asking some his nationality is a Racial offenc...      0   \n",
       "4  79357270  The reader here is not going by my say so for ...      0   \n",
       "\n",
       "   severe_toxic  obscene  threat  insult  identity_hate  \n",
       "0             0        0       0       0              0  \n",
       "1             0        0       0       0              0  \n",
       "2             0        0       0       0              0  \n",
       "3             0        0       0       0              0  \n",
       "4             0        0       0       0              0  "
      ]
     },
     "execution_count": 14,
     "metadata": {},
     "output_type": "execute_result"
    }
   ],
   "source": [
    "train.head()"
   ]
  },
  {
   "cell_type": "code",
   "execution_count": 5,
   "metadata": {
    "collapsed": true
   },
   "outputs": [],
   "source": [
    "def get_wordnet_pos(treebank_tag):\n",
    "\n",
    "    if treebank_tag.startswith('J'):\n",
    "        return wordnet.ADJ\n",
    "    elif treebank_tag.startswith('V'):\n",
    "        return wordnet.VERB\n",
    "    elif treebank_tag.startswith('N'):\n",
    "        return wordnet.NOUN\n",
    "    elif treebank_tag.startswith('R'):\n",
    "        return wordnet.ADV\n",
    "    else:\n",
    "        return ''"
   ]
  },
  {
   "cell_type": "code",
   "execution_count": 6,
   "metadata": {
    "collapsed": true
   },
   "outputs": [],
   "source": [
    "def clean(comment):\n",
    "    \"\"\"\n",
    "    (string)->(list of words)\n",
    "    This function receives comments and returns clean word-list\n",
    "    \"\"\"\n",
    "    lem=WordNetLemmatizer()\n",
    "    eng_stopwords = set(stopwords.words(\"english\"))\n",
    "    \n",
    "    #Convert to lower case\n",
    "    comment=comment.lower()\n",
    "    #remove \\n\n",
    "    comment=re.sub(\"\\\\n\",\"\",comment)\n",
    "    # remove leaky elements like ip,user\n",
    "    comment=re.sub(\"\\d{1,3}.\\d{1,3}.\\d{1,3}.\\d{1,3}\",\"\",comment)\n",
    "    #removing usernames\n",
    "    comment=re.sub(\"\\[\\[.*\\]\",\"\",comment)\n",
    "    \n",
    "    #Split the sentences into words\n",
    "    words=word_tokenize(comment)\n",
    "    words = [w for w in words if not w in eng_stopwords]\n",
    "    \n",
    "    tags=nltk.pos_tag(words)\n",
    "    \n",
    "    lem_words=[]\n",
    "    for i in range(len(words)):\n",
    "        if get_wordnet_pos(tags[i][1])!='':\n",
    "            lem_words.append(lem.lemmatize(tags[i][0], get_wordnet_pos(tags[i][1])))\n",
    "        else:\n",
    "            lem_words.append(tags[i][0])\n",
    "       \n",
    "    return lem_words"
   ]
  },
  {
   "cell_type": "code",
   "execution_count": 26,
   "metadata": {
    "collapsed": true
   },
   "outputs": [],
   "source": [
    "toxic=train[train['toxic']==1]"
   ]
  },
  {
   "cell_type": "code",
   "execution_count": 28,
   "metadata": {},
   "outputs": [
    {
     "data": {
      "text/html": [
       "<div>\n",
       "<table border=\"1\" class=\"dataframe\">\n",
       "  <thead>\n",
       "    <tr style=\"text-align: right;\">\n",
       "      <th></th>\n",
       "      <th>id</th>\n",
       "      <th>comment_text</th>\n",
       "      <th>toxic</th>\n",
       "      <th>severe_toxic</th>\n",
       "      <th>obscene</th>\n",
       "      <th>threat</th>\n",
       "      <th>insult</th>\n",
       "      <th>identity_hate</th>\n",
       "    </tr>\n",
       "  </thead>\n",
       "  <tbody>\n",
       "    <tr>\n",
       "      <th>0</th>\n",
       "      <td>22256635</td>\n",
       "      <td>Nonsense?  kiss off, geek. what I said is true...</td>\n",
       "      <td>1</td>\n",
       "      <td>0</td>\n",
       "      <td>0</td>\n",
       "      <td>0</td>\n",
       "      <td>0</td>\n",
       "      <td>0</td>\n",
       "    </tr>\n",
       "    <tr>\n",
       "      <th>20</th>\n",
       "      <td>225701312</td>\n",
       "      <td>Why hasn't Alitalia been removed rom the allia...</td>\n",
       "      <td>1</td>\n",
       "      <td>0</td>\n",
       "      <td>0</td>\n",
       "      <td>0</td>\n",
       "      <td>0</td>\n",
       "      <td>0</td>\n",
       "    </tr>\n",
       "    <tr>\n",
       "      <th>26</th>\n",
       "      <td>293668009</td>\n",
       "      <td>\"\\nThe Graceful Slick....\\nIs non other than a...</td>\n",
       "      <td>1</td>\n",
       "      <td>0</td>\n",
       "      <td>0</td>\n",
       "      <td>0</td>\n",
       "      <td>0</td>\n",
       "      <td>0</td>\n",
       "    </tr>\n",
       "    <tr>\n",
       "      <th>30</th>\n",
       "      <td>341549388</td>\n",
       "      <td>\"\\n\\n Stupid? \\n\\nAs soon as I saw the phrase ...</td>\n",
       "      <td>1</td>\n",
       "      <td>0</td>\n",
       "      <td>0</td>\n",
       "      <td>0</td>\n",
       "      <td>0</td>\n",
       "      <td>0</td>\n",
       "    </tr>\n",
       "    <tr>\n",
       "      <th>32</th>\n",
       "      <td>345843351</td>\n",
       "      <td>\"\\nBan one side of an argument by a bullshit n...</td>\n",
       "      <td>1</td>\n",
       "      <td>0</td>\n",
       "      <td>1</td>\n",
       "      <td>0</td>\n",
       "      <td>1</td>\n",
       "      <td>0</td>\n",
       "    </tr>\n",
       "  </tbody>\n",
       "</table>\n",
       "</div>"
      ],
      "text/plain": [
       "           id                                       comment_text  toxic  \\\n",
       "0    22256635  Nonsense?  kiss off, geek. what I said is true...      1   \n",
       "20  225701312  Why hasn't Alitalia been removed rom the allia...      1   \n",
       "26  293668009  \"\\nThe Graceful Slick....\\nIs non other than a...      1   \n",
       "30  341549388  \"\\n\\n Stupid? \\n\\nAs soon as I saw the phrase ...      1   \n",
       "32  345843351  \"\\nBan one side of an argument by a bullshit n...      1   \n",
       "\n",
       "    severe_toxic  obscene  threat  insult  identity_hate  \n",
       "0              0        0       0       0              0  \n",
       "20             0        0       0       0              0  \n",
       "26             0        0       0       0              0  \n",
       "30             0        0       0       0              0  \n",
       "32             0        1       0       1              0  "
      ]
     },
     "execution_count": 28,
     "metadata": {},
     "output_type": "execute_result"
    }
   ],
   "source": [
    "toxic.head()"
   ]
  },
  {
   "cell_type": "code",
   "execution_count": 29,
   "metadata": {
    "scrolled": true
   },
   "outputs": [
    {
     "name": "stderr",
     "output_type": "stream",
     "text": [
      "C:\\Users\\Acer\\Anaconda4\\lib\\site-packages\\ipykernel\\__main__.py:1: SettingWithCopyWarning: \n",
      "A value is trying to be set on a copy of a slice from a DataFrame.\n",
      "Try using .loc[row_indexer,col_indexer] = value instead\n",
      "\n",
      "See the caveats in the documentation: http://pandas.pydata.org/pandas-docs/stable/indexing.html#indexing-view-versus-copy\n",
      "  if __name__ == '__main__':\n"
     ]
    }
   ],
   "source": [
    "toxic['comment_text_lem']=toxic['comment_text'].map(clean)"
   ]
  },
  {
   "cell_type": "code",
   "execution_count": 38,
   "metadata": {},
   "outputs": [],
   "source": [
    "toxic_text=toxic['comment_text_lem'].values\n",
    "toxic_text=[word for comment in toxic['comment_text_lem'].values for word in comment]\n",
    "toxic_freq=Counter(toxic_text)\n",
    "toxic_freq.most_common(20)"
   ]
  },
  {
   "cell_type": "code",
   "execution_count": 79,
   "metadata": {},
   "outputs": [],
   "source": [
    "def ngrams(text,n):\n",
    "    '''\n",
    "    (list of words)->(list of ngrams)\n",
    "    '''\n",
    "    ngrams=[]\n",
    "    for i in range(len(text)-n+1):\n",
    "        ngrams.append('_'.join(text[i:i+n]))\n",
    "\n",
    "    return ngrams"
   ]
  },
  {
   "cell_type": "code",
   "execution_count": 80,
   "metadata": {},
   "outputs": [
    {
     "data": {
      "text/plain": [
       "[('!_!', 25954),\n",
       " ('nigger_nigger', 2722),\n",
       " ('!_fuck', 2087),\n",
       " (\"''_''\", 2033),\n",
       " (\"``_''\", 1751),\n",
       " ('fuck_!', 1336),\n",
       " ('pig_pig', 1250),\n",
       " ('?_?', 1215),\n",
       " ('shit_shit', 1143),\n",
       " ('bark_bark', 999),\n",
       " ('hate_hate', 961),\n",
       " ('penis_penis', 939),\n",
       " ('ball_ball', 832),\n",
       " ('as_.', 770),\n",
       " ('go_fuck', 747),\n",
       " ('wanker_wanker', 734),\n",
       " ('._as', 687),\n",
       " ('._``', 626),\n",
       " ('die_fag', 625),\n",
       " ('!_go', 624),\n",
       " ('fag_die', 624),\n",
       " ('fuck_yourselfgo', 621),\n",
       " ('yourselfgo_fuck', 621),\n",
       " ('jew_fat', 613),\n",
       " ('fat_jew', 609),\n",
       " ('moron_hi', 560),\n",
       " ('hi_moron', 560),\n",
       " ('suck_suck', 509),\n",
       " ('._go', 479),\n",
       " (\"._n't\", 456)]"
      ]
     },
     "execution_count": 80,
     "metadata": {},
     "output_type": "execute_result"
    }
   ],
   "source": [
    "bigrams=ngrams(toxic_text,2)\n",
    "freq_bigrams=Counter(bigrams)\n",
    "freq_bigrams.most_common(30)"
   ]
  },
  {
   "cell_type": "code",
   "execution_count": 81,
   "metadata": {},
   "outputs": [
    {
     "data": {
      "text/plain": [
       "[('!_!_!', 22538),\n",
       " ('nigger_nigger_nigger', 2713),\n",
       " ('pig_pig_pig', 1248),\n",
       " ('shit_shit_shit', 1106),\n",
       " ('bark_bark_bark', 998),\n",
       " ('hate_hate_hate', 938),\n",
       " ('?_?_?', 857),\n",
       " ('penis_penis_penis', 832),\n",
       " ('ball_ball_ball', 831),\n",
       " ('wanker_wanker_wanker', 732),\n",
       " ('._as_.', 681),\n",
       " ('as_._as', 676),\n",
       " ('!_!_fuck', 663),\n",
       " ('die_fag_die', 624),\n",
       " ('fag_die_fag', 624),\n",
       " ('fuck_yourselfgo_fuck', 621),\n",
       " ('yourselfgo_fuck_yourselfgo', 619),\n",
       " ('fat_jew_fat', 609),\n",
       " ('jew_fat_jew', 608),\n",
       " ('!_go_fuck', 572),\n",
       " ('go_fuck_!', 559),\n",
       " ('hi_moron_hi', 559),\n",
       " ('moron_hi_moron', 558),\n",
       " ('fuck_!_go', 555),\n",
       " ('!_fuck_!', 513),\n",
       " ('fuck_!_fuck', 503),\n",
       " ('suck_suck_suck', 498),\n",
       " ('wiki_noobs_wiki', 454),\n",
       " ('noobs_wiki_noobs', 453),\n",
       " ('as_as_as', 448)]"
      ]
     },
     "execution_count": 81,
     "metadata": {},
     "output_type": "execute_result"
    }
   ],
   "source": [
    "trigrams=ngrams(toxic_text,3)\n",
    "freq_trigrams=Counter(trigrams)\n",
    "freq_trigrams.most_common(30)"
   ]
  },
  {
   "cell_type": "code",
   "execution_count": null,
   "metadata": {
    "collapsed": true
   },
   "outputs": [],
   "source": []
  }
 ],
 "metadata": {
  "kernelspec": {
   "display_name": "Python 3",
   "language": "python",
   "name": "python3"
  },
  "language_info": {
   "codemirror_mode": {
    "name": "ipython",
    "version": 3
   },
   "file_extension": ".py",
   "mimetype": "text/x-python",
   "name": "python",
   "nbconvert_exporter": "python",
   "pygments_lexer": "ipython3",
   "version": "3.6.0"
  }
 },
 "nbformat": 4,
 "nbformat_minor": 2
}
